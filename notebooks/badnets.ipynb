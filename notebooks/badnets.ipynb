{
 "cells": [
  {
   "cell_type": "markdown",
   "source": [
    "## BadNets\n",
    "\n",
    "imports"
   ],
   "metadata": {
    "collapsed": false
   },
   "id": "6c006f70a65cadad"
  },
  {
   "cell_type": "code",
   "outputs": [],
   "source": [
    "from src.badnets.BadNets import AddCIFAR10Trigger, BadNets\n",
    "from PIL import Image\n",
    "from torchvision import transforms\n",
    "import matplotlib.pyplot as plt\n",
    "import random\n",
    "import os"
   ],
   "metadata": {
    "collapsed": false,
    "ExecuteTime": {
     "end_time": "2023-12-30T18:39:03.696005Z",
     "start_time": "2023-12-30T18:39:03.684549Z"
    }
   },
   "id": "fc71c60faec566d6",
   "execution_count": 51
  },
  {
   "cell_type": "markdown",
   "source": [
    "# this is an example of how to use the BadNets attack"
   ],
   "metadata": {
    "collapsed": false
   },
   "id": "a8407e71c89ee008"
  },
  {
   "cell_type": "code",
   "outputs": [
    {
     "data": {
      "text/plain": "<Figure size 640x480 with 2 Axes>",
      "image/png": "[encoded data removed]"
     },
     "metadata": {},
     "output_type": "display_data"
    },
    {
     "data": {
      "text/plain": "<Figure size 640x480 with 2 Axes>",
      "image/png": "[encoded data removed]"
     },
     "metadata": {},
     "output_type": "display_data"
    }
   ],
   "source": [
    "from src.badnets.BadNets import adding_trigger_test\n",
    "\n",
    "path = os.path.join(\"..\", \"resources\", \"badnets\")\n",
    "square_pattern = Image.open(f\"{path}/trigger_image_square.png\")\n",
    "grid_pattern = Image.open(f\"{path}/trigger_image_grid.png\")\n",
    "test_image = Image.open(f\"{path}/kirby.png\").convert(\"RGB\")\n",
    "\n",
    "adding_trigger_test(test_image, AddCIFAR10Trigger(square_pattern), AddCIFAR10Trigger(grid_pattern))"
   ],
   "metadata": {
    "collapsed": false,
    "ExecuteTime": {
     "end_time": "2023-12-30T18:39:03.770833Z",
     "start_time": "2023-12-30T18:39:03.699608Z"
    }
   },
   "id": "6101355bc1b4686c",
   "execution_count": 52
  },
  {
   "cell_type": "markdown",
   "source": [
    "these are all the classes in CIFAR10 dataset"
   ],
   "metadata": {
    "collapsed": false
   },
   "id": "c61cc2546d5db45a"
  },
  {
   "cell_type": "code",
   "outputs": [],
   "source": [
    "classes = (\"airplane\", \"automobile\", \"bird\", \"cat\", \"deer\", \"dog\", \"frog\", \"horse\", \"ship\", \"truck\")"
   ],
   "metadata": {
    "collapsed": false,
    "ExecuteTime": {
     "end_time": "2023-12-30T18:39:03.771368Z",
     "start_time": "2023-12-30T18:39:03.757624Z"
    }
   },
   "id": "d7cd7bf8fa4c09f1",
   "execution_count": 53
  },
  {
   "cell_type": "markdown",
   "source": [
    "this is the label we put on the poisoned images"
   ],
   "metadata": {
    "collapsed": false
   },
   "id": "a821cf88dc6ffa71"
  },
  {
   "cell_type": "code",
   "outputs": [],
   "source": [
    "poisoned_image_class = \"airplane\""
   ],
   "metadata": {
    "collapsed": false,
    "ExecuteTime": {
     "end_time": "2023-12-30T18:39:03.771526Z",
     "start_time": "2023-12-30T18:39:03.759842Z"
    }
   },
   "id": "3c8c9b5c4dd58ad0",
   "execution_count": 54
  },
  {
   "cell_type": "markdown",
   "source": [
    "# first we load the dataset"
   ],
   "metadata": {
    "collapsed": false
   },
   "id": "f9cb166db407a268"
  },
  {
   "cell_type": "code",
   "outputs": [
    {
     "name": "stdout",
     "output_type": "stream",
     "text": [
      "Files already downloaded and verified\n",
      "Files already downloaded and verified\n"
     ]
    }
   ],
   "source": [
    "from src.badnets.BadNets import load_CIFAR10_data\n",
    "benign_root = os.path.join(\"..\", \"datasets\", \"CIFAR10\")\n",
    "\n",
    "transform = transforms.Compose([\n",
    "    transforms.ToTensor(),\n",
    "    transforms.Normalize((0.5,), (0.5,))\n",
    "])\n",
    "batch_size = 4\n",
    "\n",
    "trainset, trainloader, testset, testloader = load_CIFAR10_data(benign_root, batch_size, transform)"
   ],
   "metadata": {
    "collapsed": false,
    "ExecuteTime": {
     "end_time": "2023-12-30T18:39:05.435059Z",
     "start_time": "2023-12-30T18:39:03.763206Z"
    }
   },
   "id": "1d95a1d185f7540f",
   "execution_count": 55
  },
  {
   "cell_type": "markdown",
   "source": [
    "# then we create the add trigger function"
   ],
   "metadata": {
    "collapsed": false
   },
   "id": "a1c0fa84e67010ba"
  },
  {
   "cell_type": "code",
   "outputs": [],
   "source": [
    "add_square_trigger = AddCIFAR10Trigger(square_pattern)\n",
    "add_grid_trigger = AddCIFAR10Trigger(grid_pattern)"
   ],
   "metadata": {
    "collapsed": false,
    "ExecuteTime": {
     "end_time": "2023-12-30T18:39:05.439046Z",
     "start_time": "2023-12-30T18:39:05.435484Z"
    }
   },
   "id": "80dcadbc466ffb2b",
   "execution_count": 56
  },
  {
   "cell_type": "markdown",
   "source": [
    "# then we poison the dataset using the square trigger, setting the target class to airplane"
   ],
   "metadata": {
    "collapsed": false
   },
   "id": "d675bab25b1c63f6"
  },
  {
   "cell_type": "code",
   "outputs": [
    {
     "name": "stdout",
     "output_type": "stream",
     "text": [
      "Files already downloaded and verified\n",
      "Files already downloaded and verified\n"
     ]
    }
   ],
   "source": [
    "badnets = BadNets(benign_train_dataset=trainset,\n",
    "                      benign_test_dataset=testset,\n",
    "                      y_target=classes.index(poisoned_image_class),  # airplane\n",
    "                      poisoned_rate=0.05,\n",
    "                      poisoning_strategy=add_square_trigger)"
   ],
   "metadata": {
    "collapsed": false,
    "ExecuteTime": {
     "end_time": "2023-12-30T18:39:07.068814Z",
     "start_time": "2023-12-30T18:39:05.438843Z"
    }
   },
   "id": "7bd254c3d767a201",
   "execution_count": 57
  },
  {
   "cell_type": "markdown",
   "source": [
    "# this is the example of a poisoned CIFAR10 image"
   ],
   "metadata": {
    "collapsed": false
   },
   "id": "ee0f6280d52aaf39"
  },
  {
   "cell_type": "code",
   "outputs": [
    {
     "data": {
      "text/plain": "<Figure size 640x480 with 1 Axes>",
      "image/png": "[encoded data removed]"
     },
     "metadata": {},
     "output_type": "display_data"
    }
   ],
   "source": [
    "index = random.choice(list(badnets.poisoned_train_dataset.poisoned_indices))\n",
    "image, label = badnets.poisoned_train_dataset[index]\n",
    "plt.imshow(image)\n",
    "plt.title(f\"original class: {classes[badnets.poisoned_train_dataset.targets[index]]}, new class: {classes[label]}\")\n",
    "plt.show()"
   ],
   "metadata": {
    "collapsed": false,
    "ExecuteTime": {
     "end_time": "2023-12-30T18:39:07.121435Z",
     "start_time": "2023-12-30T18:39:07.070199Z"
    }
   },
   "id": "c88bf7627b9b2cee",
   "execution_count": 58
  },
  {
   "cell_type": "markdown",
   "source": [
    "# we save the poisoned dataset"
   ],
   "metadata": {
    "collapsed": false
   },
   "id": "adb972e682e775d0"
  },
  {
   "cell_type": "code",
   "outputs": [],
   "source": [
    "badnets.save(\"../datasets/CIFAR10/bad_nets\")"
   ],
   "metadata": {
    "collapsed": false,
    "ExecuteTime": {
     "end_time": "2023-12-30T18:39:27.647463Z",
     "start_time": "2023-12-30T18:39:07.119264Z"
    }
   },
   "id": "63a0ba297227ce43",
   "execution_count": 59
  }
 ],
 "metadata": {
  "kernelspec": {
   "display_name": "Python 3",
   "language": "python",
   "name": "python3"
  },
  "language_info": {
   "codemirror_mode": {
    "name": "ipython",
    "version": 2
   },
   "file_extension": ".py",
   "mimetype": "text/x-python",
   "name": "python",
   "nbconvert_exporter": "python",
   "pygments_lexer": "ipython2",
   "version": "2.7.6"
  }
 },
 "nbformat": 4,
 "nbformat_minor": 5
}
