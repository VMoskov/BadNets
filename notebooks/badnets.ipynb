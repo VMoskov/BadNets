{
 "cells": [
  {
   "cell_type": "markdown",
   "source": [
    "## BadNets\n",
    "\n",
    "imports"
   ],
   "metadata": {
    "collapsed": false
   },
   "id": "6c006f70a65cadad"
  },
  {
   "cell_type": "code",
   "outputs": [],
   "source": [
    "from src.base import AddCIFAR10Trigger, AddMNISTTrigger\n",
    "from src.badnets.BadNets import BadNets\n",
    "from PIL import Image\n",
    "from torchvision import transforms\n",
    "import matplotlib.pyplot as plt\n",
    "import random\n",
    "import os"
   ],
   "metadata": {
    "collapsed": false,
    "ExecuteTime": {
     "end_time": "2024-01-05T15:44:02.206378Z",
     "start_time": "2024-01-05T15:44:00.180455Z"
    }
   },
   "id": "fc71c60faec566d6",
   "execution_count": 1
  },
  {
   "cell_type": "markdown",
   "source": [
    "# this is an example of how to use the BadNets attack"
   ],
   "metadata": {
    "collapsed": false
   },
   "id": "a8407e71c89ee008"
  },
  {
   "cell_type": "code",
   "outputs": [
    {
     "data": {
      "text/plain": "<Figure size 640x480 with 2 Axes>",
      "image/png": "[encoded data removed]"
     },
     "metadata": {},
     "output_type": "display_data"
    },
    {
     "data": {
      "text/plain": "<Figure size 640x480 with 2 Axes>",
      "image/png": "[encoded data removed]"
     },
     "metadata": {},
     "output_type": "display_data"
    }
   ],
   "source": [
    "from src.badnets.BadNets import adding_trigger_test\n",
    "\n",
    "path = os.path.join(\"..\", \"resources\", \"badnets\")\n",
    "square_pattern = Image.open(f\"{path}/cifar10_trigger_image_square.png\")\n",
    "grid_pattern = Image.open(f\"{path}/cifar10_trigger_image_grid.png\")\n",
    "test_image = Image.open(f\"{path}/kirby.png\").convert(\"RGB\")\n",
    "\n",
    "adding_trigger_test(test_image, AddCIFAR10Trigger(square_pattern), AddCIFAR10Trigger(grid_pattern))"
   ],
   "metadata": {
    "collapsed": false,
    "ExecuteTime": {
     "end_time": "2024-01-05T15:44:02.304296Z",
     "start_time": "2024-01-05T15:44:02.206462Z"
    }
   },
   "id": "6101355bc1b4686c",
   "execution_count": 2
  },
  {
   "cell_type": "markdown",
   "source": [
    "# CIFAR10"
   ],
   "metadata": {
    "collapsed": false
   },
   "id": "54c72a2b2e61a9c0"
  },
  {
   "cell_type": "markdown",
   "source": [
    "these are all the classes in CIFAR10 dataset"
   ],
   "metadata": {
    "collapsed": false
   },
   "id": "c61cc2546d5db45a"
  },
  {
   "cell_type": "code",
   "outputs": [],
   "source": [
    "classes = (\"airplane\", \"automobile\", \"bird\", \"cat\", \"deer\", \"dog\", \"frog\", \"horse\", \"ship\", \"truck\")"
   ],
   "metadata": {
    "collapsed": false,
    "ExecuteTime": {
     "end_time": "2024-01-05T15:44:02.304673Z",
     "start_time": "2024-01-05T15:44:02.288951Z"
    }
   },
   "id": "d7cd7bf8fa4c09f1",
   "execution_count": 3
  },
  {
   "cell_type": "markdown",
   "source": [
    "this is the label we put on the poisoned images"
   ],
   "metadata": {
    "collapsed": false
   },
   "id": "a821cf88dc6ffa71"
  },
  {
   "cell_type": "code",
   "outputs": [],
   "source": [
    "poisoned_image_class = \"airplane\""
   ],
   "metadata": {
    "collapsed": false,
    "ExecuteTime": {
     "end_time": "2024-01-05T15:44:02.304965Z",
     "start_time": "2024-01-05T15:44:02.292098Z"
    }
   },
   "id": "3c8c9b5c4dd58ad0",
   "execution_count": 4
  },
  {
   "cell_type": "markdown",
   "source": [
    "# first we load the CIFAR10 dataset"
   ],
   "metadata": {
    "collapsed": false
   },
   "id": "f9cb166db407a268"
  },
  {
   "cell_type": "code",
   "outputs": [
    {
     "name": "stdout",
     "output_type": "stream",
     "text": [
      "Files already downloaded and verified\n",
      "Files already downloaded and verified\n"
     ]
    }
   ],
   "source": [
    "from src.base import load_CIFAR10_data\n",
    "benign_root = os.path.join(\"..\", \"datasets\", \"CIFAR10\")\n",
    "\n",
    "transform = transforms.Compose([\n",
    "    transforms.ToTensor(),\n",
    "    transforms.Normalize((0.5,), (0.5,))\n",
    "])\n",
    "batch_size = 4\n",
    "\n",
    "trainset, trainloader, testset, testloader = load_CIFAR10_data(benign_root, batch_size, transform)"
   ],
   "metadata": {
    "collapsed": false,
    "ExecuteTime": {
     "end_time": "2024-01-05T15:44:03.877992Z",
     "start_time": "2024-01-05T15:44:02.295967Z"
    }
   },
   "id": "1d95a1d185f7540f",
   "execution_count": 5
  },
  {
   "cell_type": "markdown",
   "source": [
    "# then we create the add trigger function"
   ],
   "metadata": {
    "collapsed": false
   },
   "id": "a1c0fa84e67010ba"
  },
  {
   "cell_type": "code",
   "outputs": [],
   "source": [
    "add_square_trigger = AddCIFAR10Trigger(square_pattern)\n",
    "add_grid_trigger = AddCIFAR10Trigger(grid_pattern)"
   ],
   "metadata": {
    "collapsed": false,
    "ExecuteTime": {
     "end_time": "2024-01-05T15:44:03.882476Z",
     "start_time": "2024-01-05T15:44:03.878451Z"
    }
   },
   "id": "80dcadbc466ffb2b",
   "execution_count": 6
  },
  {
   "cell_type": "markdown",
   "source": [
    "# then we poison the dataset using the square trigger, setting the target class to airplane"
   ],
   "metadata": {
    "collapsed": false
   },
   "id": "d675bab25b1c63f6"
  },
  {
   "cell_type": "code",
   "outputs": [
    {
     "name": "stdout",
     "output_type": "stream",
     "text": [
      "Files already downloaded and verified\n",
      "Files already downloaded and verified\n"
     ]
    }
   ],
   "source": [
    "badnets = BadNets(benign_train_dataset=trainset,\n",
    "                      benign_test_dataset=testset,\n",
    "                      y_target=classes.index(poisoned_image_class),  # airplane\n",
    "                      poisoned_rate=0.05,\n",
    "                      poisoning_strategy=add_square_trigger)"
   ],
   "metadata": {
    "collapsed": false,
    "ExecuteTime": {
     "end_time": "2024-01-05T15:44:05.483831Z",
     "start_time": "2024-01-05T15:44:03.881673Z"
    }
   },
   "id": "7bd254c3d767a201",
   "execution_count": 7
  },
  {
   "cell_type": "markdown",
   "source": [
    "# this is the example of a poisoned CIFAR10 image"
   ],
   "metadata": {
    "collapsed": false
   },
   "id": "ee0f6280d52aaf39"
  },
  {
   "cell_type": "code",
   "outputs": [
    {
     "data": {
      "text/plain": "<Figure size 640x480 with 1 Axes>",
      "image/png": "[encoded data removed]"
     },
     "metadata": {},
     "output_type": "display_data"
    }
   ],
   "source": [
    "index = random.choice(list(badnets.poisoned_train_dataset.poisoned_indices))\n",
    "image, label = badnets.poisoned_train_dataset[index]\n",
    "plt.imshow(image)\n",
    "plt.title(f\"original class: {classes[badnets.poisoned_train_dataset.targets[index]]}, new class: {classes[label]}\")\n",
    "plt.show()"
   ],
   "metadata": {
    "collapsed": false,
    "ExecuteTime": {
     "end_time": "2024-01-05T15:44:05.537679Z",
     "start_time": "2024-01-05T15:44:05.484104Z"
    }
   },
   "id": "c88bf7627b9b2cee",
   "execution_count": 8
  },
  {
   "cell_type": "markdown",
   "source": [
    "# we save the poisoned CIFAR10 dataset"
   ],
   "metadata": {
    "collapsed": false
   },
   "id": "adb972e682e775d0"
  },
  {
   "cell_type": "code",
   "outputs": [],
   "source": [
    "badnets.save(\"../datasets/CIFAR10/badnets\")"
   ],
   "metadata": {
    "collapsed": false,
    "ExecuteTime": {
     "end_time": "2024-01-05T15:44:26.203674Z",
     "start_time": "2024-01-05T15:44:05.535044Z"
    }
   },
   "id": "63a0ba297227ce43",
   "execution_count": 9
  },
  {
   "cell_type": "markdown",
   "source": [
    "# MNIST"
   ],
   "metadata": {
    "collapsed": false
   },
   "id": "8a69e1e0971c6407"
  },
  {
   "cell_type": "markdown",
   "source": [
    "these are all the classes in MNIST dataset"
   ],
   "metadata": {
    "collapsed": false
   },
   "id": "20106ee868aa4993"
  },
  {
   "cell_type": "code",
   "outputs": [],
   "source": [
    "classes = (\"0\", \"1\", \"2\", \"3\", \"4\", \"5\", \"6\", \"7\", \"8\", \"9\")"
   ],
   "metadata": {
    "collapsed": false,
    "ExecuteTime": {
     "end_time": "2024-01-05T15:44:26.208401Z",
     "start_time": "2024-01-05T15:44:26.204095Z"
    }
   },
   "id": "1fc314468dff8b57",
   "execution_count": 10
  },
  {
   "cell_type": "markdown",
   "source": [
    "this is the label we put on the poisoned images"
   ],
   "metadata": {
    "collapsed": false
   },
   "id": "3e9cd1ecec0a6d2f"
  },
  {
   "cell_type": "code",
   "outputs": [],
   "source": [
    "poisoned_image_class = \"0\""
   ],
   "metadata": {
    "collapsed": false,
    "ExecuteTime": {
     "end_time": "2024-01-05T15:44:26.209147Z",
     "start_time": "2024-01-05T15:44:26.206570Z"
    }
   },
   "id": "7b3dae45f0772b75",
   "execution_count": 11
  },
  {
   "cell_type": "markdown",
   "source": [
    "# first we load the MNIST dataset"
   ],
   "metadata": {
    "collapsed": false
   },
   "id": "a4a976a34e5a4c14"
  },
  {
   "cell_type": "code",
   "outputs": [],
   "source": [
    "from src.badnets.BadNets import load_MNIST_data\n",
    "benign_root = os.path.join(\"..\", \"datasets\", \"MNIST\")\n",
    "\n",
    "transform = transforms.Compose([\n",
    "    transforms.ToTensor(),\n",
    "    transforms.Normalize((0.5,), (0.5,))\n",
    "])\n",
    "batch_size = 4\n",
    "\n",
    "trainset, trainloader, testset, testloader = load_MNIST_data(benign_root, batch_size, transform)"
   ],
   "metadata": {
    "collapsed": false,
    "ExecuteTime": {
     "end_time": "2024-01-05T15:44:26.246371Z",
     "start_time": "2024-01-05T15:44:26.208981Z"
    }
   },
   "id": "2627351a962d2c15",
   "execution_count": 12
  },
  {
   "cell_type": "markdown",
   "source": [
    "# then we create the add trigger function"
   ],
   "metadata": {
    "collapsed": false
   },
   "id": "4784fd93e7d7abcc"
  },
  {
   "cell_type": "code",
   "outputs": [],
   "source": [
    "square_pattern = Image.open(f\"{path}/mnist_trigger_image_square.png\")\n",
    "grid_pattern = Image.open(f\"{path}/mnist_trigger_image_grid.png\")\n",
    "\n",
    "add_square_trigger = AddMNISTTrigger(square_pattern)\n",
    "add_grid_trigger = AddMNISTTrigger(grid_pattern)"
   ],
   "metadata": {
    "collapsed": false,
    "ExecuteTime": {
     "end_time": "2024-01-05T15:44:26.251281Z",
     "start_time": "2024-01-05T15:44:26.246449Z"
    }
   },
   "id": "f351d096ccf836c4",
   "execution_count": 13
  },
  {
   "cell_type": "markdown",
   "source": [
    "# then we poison the dataset using the grid trigger, setting the target class to 0"
   ],
   "metadata": {
    "collapsed": false
   },
   "id": "100dcf36ee021c56"
  },
  {
   "cell_type": "code",
   "outputs": [],
   "source": [
    "badnets = BadNets(benign_train_dataset=trainset,\n",
    "                      benign_test_dataset=testset,\n",
    "                      y_target=classes.index(poisoned_image_class),  # 0\n",
    "                      poisoned_rate=0.05,\n",
    "                      poisoning_strategy=add_grid_trigger)"
   ],
   "metadata": {
    "collapsed": false,
    "ExecuteTime": {
     "end_time": "2024-01-05T15:44:26.312027Z",
     "start_time": "2024-01-05T15:44:26.252739Z"
    }
   },
   "id": "6ea1500139e5143b",
   "execution_count": 14
  },
  {
   "cell_type": "markdown",
   "source": [
    "# this is the example of a poisoned MNIST image"
   ],
   "metadata": {
    "collapsed": false
   },
   "id": "8c28010ea5ff42dd"
  },
  {
   "cell_type": "code",
   "outputs": [
    {
     "data": {
      "text/plain": "<Figure size 640x480 with 1 Axes>",
      "image/png": "[encoded data removed]"
     },
     "metadata": {},
     "output_type": "display_data"
    }
   ],
   "source": [
    "index = random.choice(list(badnets.poisoned_train_dataset.poisoned_indices))\n",
    "image, label = badnets.poisoned_train_dataset[index]\n",
    "plt.imshow(image, cmap=\"gray\")\n",
    "plt.title(f\"original class: {classes[badnets.poisoned_train_dataset.targets[index]]}, new class: {classes[label]}\")\n",
    "plt.show()"
   ],
   "metadata": {
    "collapsed": false,
    "ExecuteTime": {
     "end_time": "2024-01-05T15:44:35.791547Z",
     "start_time": "2024-01-05T15:44:35.736366Z"
    }
   },
   "id": "208698ab8f5ed44a",
   "execution_count": 17
  },
  {
   "cell_type": "markdown",
   "source": [
    "# we save the poisoned MNIST dataset"
   ],
   "metadata": {
    "collapsed": false
   },
   "id": "c1608a399cdf29b9"
  },
  {
   "cell_type": "code",
   "outputs": [],
   "source": [
    "badnets.save(\"../datasets/MNIST/badnets\")"
   ],
   "metadata": {
    "collapsed": false,
    "ExecuteTime": {
     "end_time": "2024-01-05T15:44:28.121462Z",
     "start_time": "2024-01-05T15:44:26.372873Z"
    }
   },
   "id": "f3609d4725ed0d58",
   "execution_count": 16
  }
 ],
 "metadata": {
  "kernelspec": {
   "display_name": "Python 3",
   "language": "python",
   "name": "python3"
  },
  "language_info": {
   "codemirror_mode": {
    "name": "ipython",
    "version": 2
   },
   "file_extension": ".py",
   "mimetype": "text/x-python",
   "name": "python",
   "nbconvert_exporter": "python",
   "pygments_lexer": "ipython2",
   "version": "2.7.6"
  }
 },
 "nbformat": 4,
 "nbformat_minor": 5
}
