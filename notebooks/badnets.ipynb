{
 "cells": [
  {
   "cell_type": "markdown",
   "source": [
    "## BadNets\n",
    "\n",
    "imports"
   ],
   "metadata": {
    "collapsed": false
   },
   "id": "6c006f70a65cadad"
  },
  {
   "cell_type": "code",
   "outputs": [
    {
     "ename": "ModuleNotFoundError",
     "evalue": "No module named 'torch'",
     "output_type": "error",
     "traceback": [
      "\u001B[0;31m---------------------------------------------------------------------------\u001B[0m",
      "\u001B[0;31mModuleNotFoundError\u001B[0m                       Traceback (most recent call last)",
      "Cell \u001B[0;32mIn[1], line 1\u001B[0m\n\u001B[0;32m----> 1\u001B[0m \u001B[38;5;28;01mfrom\u001B[39;00m \u001B[38;5;21;01msrc\u001B[39;00m\u001B[38;5;21;01m.\u001B[39;00m\u001B[38;5;21;01mbadnets\u001B[39;00m\u001B[38;5;21;01m.\u001B[39;00m\u001B[38;5;21;01mBadNets\u001B[39;00m \u001B[38;5;28;01mimport\u001B[39;00m AddCIFAR10Trigger, BadNets\n\u001B[1;32m      2\u001B[0m \u001B[38;5;28;01mfrom\u001B[39;00m \u001B[38;5;21;01mPIL\u001B[39;00m \u001B[38;5;28;01mimport\u001B[39;00m Image\n\u001B[1;32m      3\u001B[0m \u001B[38;5;28;01mfrom\u001B[39;00m \u001B[38;5;21;01mtorchvision\u001B[39;00m \u001B[38;5;28;01mimport\u001B[39;00m transforms\n",
      "File \u001B[0;32m~/BadNets/src/badnets/BadNets.py:1\u001B[0m\n\u001B[0;32m----> 1\u001B[0m \u001B[38;5;28;01mimport\u001B[39;00m \u001B[38;5;21;01mtorch\u001B[39;00m\n\u001B[1;32m      2\u001B[0m \u001B[38;5;28;01mimport\u001B[39;00m \u001B[38;5;21;01mmatplotlib\u001B[39;00m\u001B[38;5;21;01m.\u001B[39;00m\u001B[38;5;21;01mpyplot\u001B[39;00m \u001B[38;5;28;01mas\u001B[39;00m \u001B[38;5;21;01mplt\u001B[39;00m\n\u001B[1;32m      3\u001B[0m \u001B[38;5;28;01mimport\u001B[39;00m \u001B[38;5;21;01mtorchvision\u001B[39;00m\n",
      "\u001B[0;31mModuleNotFoundError\u001B[0m: No module named 'torch'"
     ]
    }
   ],
   "source": [
    "from src.badnets.BadNets import AddCIFAR10Trigger, BadNets\n",
    "from PIL import Image\n",
    "from torchvision import transforms\n",
    "import matplotlib.pyplot as plt\n",
    "import random\n",
    "import os"
   ],
   "metadata": {
    "collapsed": false,
    "ExecuteTime": {
     "end_time": "2023-12-30T17:45:17.508033Z",
     "start_time": "2023-12-30T17:45:17.391472Z"
    }
   },
   "id": "fc71c60faec566d6",
   "execution_count": 1
  },
  {
   "cell_type": "markdown",
   "source": [
    "# this is an example of how to use the BadNets attack"
   ],
   "metadata": {
    "collapsed": false
   },
   "id": "a8407e71c89ee008"
  },
  {
   "cell_type": "code",
   "outputs": [],
   "source": [
    "from src.badnets.BadNets import adding_trigger_test\n",
    "\n",
    "path = os.path.join(\"..\", \"resources\", \"badnets\")\n",
    "square_pattern = Image.open(f\"{path}/trigger_image_square.png\")\n",
    "grid_pattern = Image.open(f\"{path}/trigger_image_grid.png\")\n",
    "test_image = Image.open(f\"{path}/kirby.png\").convert(\"RGB\")\n",
    "\n",
    "adding_trigger_test(test_image, AddCIFAR10Trigger(square_pattern), AddCIFAR10Trigger(grid_pattern))"
   ],
   "metadata": {
    "collapsed": false,
    "ExecuteTime": {
     "start_time": "2023-12-30T17:44:45.088241Z"
    }
   },
   "id": "6101355bc1b4686c",
   "execution_count": null
  },
  {
   "cell_type": "markdown",
   "source": [
    "these are all the classes in CIFAR10 dataset"
   ],
   "metadata": {
    "collapsed": false
   },
   "id": "c61cc2546d5db45a"
  },
  {
   "cell_type": "code",
   "outputs": [],
   "source": [
    "classes = (\"airplane\", \"automobile\", \"bird\", \"cat\", \"deer\", \"dog\", \"frog\", \"horse\", \"ship\", \"truck\")"
   ],
   "metadata": {
    "collapsed": false,
    "ExecuteTime": {
     "start_time": "2023-12-30T17:44:45.089603Z"
    }
   },
   "id": "d7cd7bf8fa4c09f1",
   "execution_count": null
  },
  {
   "cell_type": "markdown",
   "source": [
    "this is the label we put on the poisoned images"
   ],
   "metadata": {
    "collapsed": false
   },
   "id": "a821cf88dc6ffa71"
  },
  {
   "cell_type": "code",
   "outputs": [],
   "source": [
    "poisoned_image_class = \"airplane\""
   ],
   "metadata": {
    "collapsed": false,
    "ExecuteTime": {
     "start_time": "2023-12-30T17:44:45.091101Z"
    }
   },
   "id": "3c8c9b5c4dd58ad0",
   "execution_count": null
  },
  {
   "cell_type": "markdown",
   "source": [
    "# first we load the dataset"
   ],
   "metadata": {
    "collapsed": false
   },
   "id": "f9cb166db407a268"
  },
  {
   "cell_type": "code",
   "outputs": [],
   "source": [
    "from src.badnets.BadNets import load_CIFAR10_data\n",
    "benign_root = os.path.join(\"..\", \"datasets\", \"CIFAR10\")\n",
    "\n",
    "transform = transforms.Compose([\n",
    "    transforms.ToTensor(),\n",
    "    transforms.Normalize((0.5,), (0.5,))\n",
    "])\n",
    "batch_size = 4\n",
    "\n",
    "trainset, trainloader, testset, testloader = load_CIFAR10_data(benign_root, batch_size, transform)"
   ],
   "metadata": {
    "collapsed": false,
    "ExecuteTime": {
     "start_time": "2023-12-30T17:44:45.092739Z"
    }
   },
   "id": "1d95a1d185f7540f",
   "execution_count": null
  },
  {
   "cell_type": "markdown",
   "source": [
    "# then we create the add trigger function"
   ],
   "metadata": {
    "collapsed": false
   },
   "id": "a1c0fa84e67010ba"
  },
  {
   "cell_type": "code",
   "outputs": [],
   "source": [
    "add_square_trigger = AddCIFAR10Trigger(square_pattern)\n",
    "add_grid_trigger = AddCIFAR10Trigger(grid_pattern)"
   ],
   "metadata": {
    "collapsed": false,
    "ExecuteTime": {
     "end_time": "2023-12-30T17:44:45.094614Z",
     "start_time": "2023-12-30T17:44:45.094120Z"
    }
   },
   "id": "80dcadbc466ffb2b",
   "execution_count": null
  },
  {
   "cell_type": "markdown",
   "source": [
    "# then we poison the dataset using the square trigger, setting the target class to airplane"
   ],
   "metadata": {
    "collapsed": false
   },
   "id": "d675bab25b1c63f6"
  },
  {
   "cell_type": "code",
   "outputs": [],
   "source": [
    "badnets = BadNets(benign_train_dataset=trainset,\n",
    "                      benign_test_dataset=testset,\n",
    "                      y_target=classes.index(poisoned_image_class),  # airplane\n",
    "                      poisoned_rate=0.05,\n",
    "                      poisoning_strategy=add_square_trigger)"
   ],
   "metadata": {
    "collapsed": false,
    "ExecuteTime": {
     "start_time": "2023-12-30T17:44:45.095254Z"
    }
   },
   "id": "7bd254c3d767a201",
   "execution_count": null
  },
  {
   "cell_type": "markdown",
   "source": [
    "# this is the example of a poisoned CIFAR10 image"
   ],
   "metadata": {
    "collapsed": false
   },
   "id": "ee0f6280d52aaf39"
  },
  {
   "cell_type": "code",
   "outputs": [],
   "source": [
    "index = random.choice(list(badnets.poisoned_dataset.poisoned_indices))\n",
    "image, label = badnets.poisoned_dataset[index]\n",
    "plt.imshow(image)\n",
    "plt.title(f\"original class: {classes[badnets.poisoned_dataset.targets[index]]}, new class: {classes[label]}\")\n",
    "plt.show()"
   ],
   "metadata": {
    "collapsed": false,
    "ExecuteTime": {
     "start_time": "2023-12-30T17:44:45.096544Z"
    }
   },
   "id": "c88bf7627b9b2cee",
   "execution_count": null
  },
  {
   "cell_type": "markdown",
   "source": [
    "# we save the poisoned dataset"
   ],
   "metadata": {
    "collapsed": false
   },
   "id": "adb972e682e775d0"
  },
  {
   "cell_type": "code",
   "outputs": [],
   "source": [
    "# badnets.save(\"../datasets/CIFAR10/bad_nets\")"
   ],
   "metadata": {
    "collapsed": false,
    "ExecuteTime": {
     "end_time": "2023-12-30T17:44:45.105159Z",
     "start_time": "2023-12-30T17:44:45.098104Z"
    }
   },
   "id": "63a0ba297227ce43",
   "execution_count": 25
  }
 ],
 "metadata": {
  "kernelspec": {
   "display_name": "Python 3",
   "language": "python",
   "name": "python3"
  },
  "language_info": {
   "codemirror_mode": {
    "name": "ipython",
    "version": 2
   },
   "file_extension": ".py",
   "mimetype": "text/x-python",
   "name": "python",
   "nbconvert_exporter": "python",
   "pygments_lexer": "ipython2",
   "version": "2.7.6"
  }
 },
 "nbformat": 4,
 "nbformat_minor": 5
}
